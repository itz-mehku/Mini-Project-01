{
  "nbformat": 4,
  "nbformat_minor": 0,
  "metadata": {
    "colab": {
      "provenance": [],
      "authorship_tag": "ABX9TyPsWm5lhU4zYnVWVTYJFwJp",
      "include_colab_link": true
    },
    "kernelspec": {
      "name": "python3",
      "display_name": "Python 3"
    },
    "language_info": {
      "name": "python"
    }
  },
  "cells": [
    {
      "cell_type": "markdown",
      "metadata": {
        "id": "view-in-github",
        "colab_type": "text"
      },
      "source": [
        "<a href=\"https://colab.research.google.com/github/itz-mehku/Mini-Project-01/blob/main/Assignment_1.ipynb\" target=\"_parent\"><img src=\"https://colab.research.google.com/assets/colab-badge.svg\" alt=\"Open In Colab\"/></a>"
      ]
    },
    {
      "cell_type": "markdown",
      "source": [
        "---\n",
        "# **Mini Project - 01 : Python Assignment**\n",
        "---\n",
        "\n",
        "\n",
        "\n",
        "\n",
        "\n",
        "### **Q.1 L is a list defined as L=[11,12,13,14].**\n",
        "(i) program to add 50 and 60 in L :\n"
      ],
      "metadata": {
        "id": "28bJaQ2Yz54e"
      }
    },
    {
      "cell_type": "code",
      "source": [
        "L=[11,12,13,14]\n",
        "L.append(50)\n",
        "L.append(60)\n",
        "print(\"Updated list is \",L)"
      ],
      "metadata": {
        "colab": {
          "base_uri": "https://localhost:8080/"
        },
        "id": "3MlqzeJ82XYw",
        "outputId": "06458317-df32-45c6-dc84-6c11da130712"
      },
      "execution_count": null,
      "outputs": [
        {
          "output_type": "stream",
          "name": "stdout",
          "text": [
            "Updated list is  [11, 12, 13, 14, 50, 60]\n"
          ]
        }
      ]
    },
    {
      "cell_type": "markdown",
      "source": [
        "   (ii) Program to remove 11 and 13 from list :"
      ],
      "metadata": {
        "id": "j0vGbmyT2nNl"
      }
    },
    {
      "cell_type": "code",
      "source": [
        "L=[11,12,13,14]\n",
        "L.remove(11)\n",
        "L.remove(13)\n",
        "print(\"Updated list is \",L)"
      ],
      "metadata": {
        "colab": {
          "base_uri": "https://localhost:8080/"
        },
        "id": "kqVUhTOy3O-W",
        "outputId": "2ce5c0ea-4561-499e-adc2-b7253f9a5b66"
      },
      "execution_count": null,
      "outputs": [
        {
          "output_type": "stream",
          "name": "stdout",
          "text": [
            "Updated list is  [12, 14]\n"
          ]
        }
      ]
    },
    {
      "cell_type": "markdown",
      "source": [
        "(iii) Program to sort L in ascending order :"
      ],
      "metadata": {
        "id": "hoSVNWEg5FFX"
      }
    },
    {
      "cell_type": "code",
      "source": [
        "L=[11,12,13,14]\n",
        "L.sort()\n",
        "print(\"Updated list in ascending order \",L)\n"
      ],
      "metadata": {
        "colab": {
          "base_uri": "https://localhost:8080/"
        },
        "id": "rOEGbTbY5akb",
        "outputId": "95708748-bdb3-4a43-e282-572f314262b8"
      },
      "execution_count": null,
      "outputs": [
        {
          "output_type": "stream",
          "name": "stdout",
          "text": [
            "Updated list in ascending order  [11, 12, 13, 14]\n"
          ]
        }
      ]
    },
    {
      "cell_type": "markdown",
      "source": [
        "(iv) Program to sort L in descending order :"
      ],
      "metadata": {
        "id": "kVpEvwq35zRK"
      }
    },
    {
      "cell_type": "code",
      "source": [
        "L=[11,12,13,14]\n",
        "L.sort(reverse=True)\n",
        "print(\"Updated list in descending order \",L)\n"
      ],
      "metadata": {
        "colab": {
          "base_uri": "https://localhost:8080/"
        },
        "id": "gDyu1Je654i5",
        "outputId": "f5a84756-58d7-4f22-8784-d142f51b3c30"
      },
      "execution_count": null,
      "outputs": [
        {
          "output_type": "stream",
          "name": "stdout",
          "text": [
            "Updated list in descending order  [14, 13, 12, 11]\n"
          ]
        }
      ]
    },
    {
      "cell_type": "markdown",
      "source": [
        "(v) Program to search for 13 in L :"
      ],
      "metadata": {
        "id": "EQpKr_Sn6QJa"
      }
    },
    {
      "cell_type": "code",
      "source": [
        "L=[11,12,13,14]\n",
        "print(\"13 in L ?\")\n",
        "if (13 in L)==True:\n",
        "  print(\"Yes, at index \",L.index(13))\n",
        "else:\n",
        "  print(\"No\")\n",
        "\n"
      ],
      "metadata": {
        "colab": {
          "base_uri": "https://localhost:8080/"
        },
        "id": "buVgbnCn6abF",
        "outputId": "6a13d0d7-c5c0-4faf-cfd9-1b9bdd12f4fb"
      },
      "execution_count": null,
      "outputs": [
        {
          "output_type": "stream",
          "name": "stdout",
          "text": [
            "13 in L ?\n",
            "Yes, at index  3\n"
          ]
        }
      ]
    },
    {
      "cell_type": "markdown",
      "source": [
        "(vi) Program to count the number of elements present in L :"
      ],
      "metadata": {
        "id": "C_a1gubP7-Bt"
      }
    },
    {
      "cell_type": "code",
      "source": [
        "L=[11,12,13,14]\n",
        "print(\"number of elements present in the list : \",len(L))\n"
      ],
      "metadata": {
        "colab": {
          "base_uri": "https://localhost:8080/"
        },
        "id": "p186s0018LYs",
        "outputId": "1d60c7a0-22cb-4e8c-ef73-c8fe631baed5"
      },
      "execution_count": null,
      "outputs": [
        {
          "output_type": "stream",
          "name": "stdout",
          "text": [
            "number of elements present in the list :  4\n"
          ]
        }
      ]
    },
    {
      "cell_type": "markdown",
      "source": [
        "(vii) Program to sum all the elements in L :"
      ],
      "metadata": {
        "id": "Qo09s7PR8sYN"
      }
    },
    {
      "cell_type": "code",
      "source": [
        "L=[11,12,13,14]\n",
        "print(\"sum of all the elements in L is \",sum(L))\n"
      ],
      "metadata": {
        "colab": {
          "base_uri": "https://localhost:8080/"
        },
        "id": "mJ1vCO708x7l",
        "outputId": "3ec5881a-dd37-43c3-9592-d583fdb652f6"
      },
      "execution_count": null,
      "outputs": [
        {
          "output_type": "stream",
          "name": "stdout",
          "text": [
            "sum of all the elements in L is  50\n"
          ]
        }
      ]
    },
    {
      "cell_type": "markdown",
      "source": [
        "(viii) Program to sum all **odd** numbers in L :"
      ],
      "metadata": {
        "id": "09piIxSG9I39"
      }
    },
    {
      "cell_type": "code",
      "source": [
        "L=[11,12,13,14]\n",
        "sum=0\n",
        "for i in L:\n",
        "  if i%2!=0:\n",
        "    sum=sum+i\n",
        "print(\"sum of all odd numbers in L is \",sum)\n"
      ],
      "metadata": {
        "colab": {
          "base_uri": "https://localhost:8080/"
        },
        "id": "qOI6nNWc9SvJ",
        "outputId": "669309f9-8eaa-4914-8e64-ccfe98732257"
      },
      "execution_count": null,
      "outputs": [
        {
          "output_type": "stream",
          "name": "stdout",
          "text": [
            "sum of all odd numbers in L is  24\n"
          ]
        }
      ]
    },
    {
      "cell_type": "markdown",
      "source": [
        "(ix) Program to sum all **even** numbers in L"
      ],
      "metadata": {
        "id": "wt0RLR1r9vyT"
      }
    },
    {
      "cell_type": "code",
      "source": [
        "L=[11,12,13,14]\n",
        "sum=0\n",
        "for i in L:\n",
        "  if i%2==0:\n",
        "    sum=sum+i\n",
        "print(\"sum of all even numbers in L is \",sum)"
      ],
      "metadata": {
        "colab": {
          "base_uri": "https://localhost:8080/"
        },
        "id": "LQYJ5Dnv92nJ",
        "outputId": "d791fd72-0413-4c60-d466-0ada709ab43c"
      },
      "execution_count": null,
      "outputs": [
        {
          "output_type": "stream",
          "name": "stdout",
          "text": [
            "sum of all even numbers in L is  26\n"
          ]
        }
      ]
    },
    {
      "cell_type": "markdown",
      "source": [
        "(x) Program to sum all **prime** numbers in L :"
      ],
      "metadata": {
        "id": "a_ucRixW-NVI"
      }
    },
    {
      "cell_type": "code",
      "source": [
        "L=[11,12,13,14]\n",
        "sum=0\n",
        "for i in L:\n",
        "  if i%2!=0:\n",
        "    sum=sum+i\n",
        "print(\"sum of all prime numbers in L is \",sum)"
      ],
      "metadata": {
        "colab": {
          "base_uri": "https://localhost:8080/"
        },
        "id": "dF7M84BL-ZD0",
        "outputId": "15ff83dc-7904-4643-e0ce-06d9dab29df1"
      },
      "execution_count": null,
      "outputs": [
        {
          "output_type": "stream",
          "name": "stdout",
          "text": [
            "sum of all prime numbers in L is  24\n"
          ]
        }
      ]
    },
    {
      "cell_type": "markdown",
      "source": [
        "(xi) Program to clear all the elements in L :"
      ],
      "metadata": {
        "id": "Rt2lUCAC_xMn"
      }
    },
    {
      "cell_type": "code",
      "source": [
        "L=[11,12,13,14]\n",
        "L.clear()\n",
        "print(L)"
      ],
      "metadata": {
        "colab": {
          "base_uri": "https://localhost:8080/"
        },
        "id": "HvPePMpO_4wO",
        "outputId": "14419e0f-0fae-4bef-8b28-1a650ee643e6"
      },
      "execution_count": null,
      "outputs": [
        {
          "output_type": "stream",
          "name": "stdout",
          "text": [
            "[]\n"
          ]
        }
      ]
    },
    {
      "cell_type": "markdown",
      "source": [
        "(xii) Program to delete L :"
      ],
      "metadata": {
        "id": "DTvhftu_A4m9"
      }
    },
    {
      "cell_type": "code",
      "source": [
        "L=[11,12,13,14]\n",
        "del(L)\n",
        "print(\"deleted\")"
      ],
      "metadata": {
        "colab": {
          "base_uri": "https://localhost:8080/"
        },
        "id": "GJx4UIhuA9Mr",
        "outputId": "4b511416-a232-4eda-cc24-b8f4d1b3c0f2"
      },
      "execution_count": null,
      "outputs": [
        {
          "output_type": "stream",
          "name": "stdout",
          "text": [
            "deleted\n"
          ]
        }
      ]
    },
    {
      "cell_type": "markdown",
      "source": [
        "\n",
        "### **Q.2 D is a dictionary defined as D={1:5.6,2:7.8,3:6.6,4:8.7,5:7.7}.**\n",
        "(i) Program to add new entry in D;key=8 and value=8.8 :\n"
      ],
      "metadata": {
        "id": "jRE_0TK_BoaU"
      }
    },
    {
      "cell_type": "code",
      "source": [
        "D={1:5.6,2:7.8,3:6.6,4:8.7,5:7.7}\n",
        "D[8]=8.8\n",
        "print(D)"
      ],
      "metadata": {
        "id": "EJOotcriCsrF",
        "colab": {
          "base_uri": "https://localhost:8080/"
        },
        "outputId": "542af08a-eee2-4616-b19b-657fc3fe436a"
      },
      "execution_count": null,
      "outputs": [
        {
          "output_type": "stream",
          "name": "stdout",
          "text": [
            "{1: 5.6, 2: 7.8, 3: 6.6, 4: 8.7, 5: 7.7, 8: 8.8}\n"
          ]
        }
      ]
    },
    {
      "cell_type": "markdown",
      "source": [
        "(ii) Program to remove key=2 :"
      ],
      "metadata": {
        "id": "ounvI6Ie572g"
      }
    },
    {
      "cell_type": "code",
      "source": [
        "D={1:5.6,2:7.8,3:6.6,4:8.7,5:7.7}\n",
        "del D[2]\n",
        "print(D)"
      ],
      "metadata": {
        "colab": {
          "base_uri": "https://localhost:8080/"
        },
        "id": "06x9YWjr6sKV",
        "outputId": "a0ffe762-2a20-4c70-8c84-57e9ed6f2330"
      },
      "execution_count": null,
      "outputs": [
        {
          "output_type": "stream",
          "name": "stdout",
          "text": [
            "{1: 5.6, 3: 6.6, 4: 8.7, 5: 7.7}\n"
          ]
        }
      ]
    },
    {
      "cell_type": "markdown",
      "source": [
        "(iii) Program to check whether 6 key is present in D :"
      ],
      "metadata": {
        "id": "BiEnprQq7epp"
      }
    },
    {
      "cell_type": "code",
      "source": [
        "D={1:5.6,2:7.8,3:6.6,4:8.7,5:7.7}\n",
        "print(\"Is key 6 present in D? \")\n",
        "if (6 in D)==True:\n",
        "  print(\"Yes\")\n",
        "else:\n",
        "  print(\"No\")\n",
        "\n"
      ],
      "metadata": {
        "colab": {
          "base_uri": "https://localhost:8080/"
        },
        "id": "zj-XPmfL7x1z",
        "outputId": "82d80d32-9a0e-48f8-87b4-6a05f48edd78"
      },
      "execution_count": null,
      "outputs": [
        {
          "output_type": "stream",
          "name": "stdout",
          "text": [
            "Is key 6 present in D? \n",
            "No\n"
          ]
        }
      ]
    },
    {
      "cell_type": "markdown",
      "source": [
        "(iv) Program to count the number of elements present in D :"
      ],
      "metadata": {
        "id": "TwgmOgxT8dDk"
      }
    },
    {
      "cell_type": "code",
      "source": [
        "D={1:5.6,2:7.8,3:6.6,4:8.7,5:7.7}\n",
        "print(\"number of elements present in the dictionary : \",len(D))"
      ],
      "metadata": {
        "colab": {
          "base_uri": "https://localhost:8080/"
        },
        "id": "y-0Iy_6e8pAa",
        "outputId": "34df4475-033e-4ca5-b227-51ebd32733b9"
      },
      "execution_count": null,
      "outputs": [
        {
          "output_type": "stream",
          "name": "stdout",
          "text": [
            "number of elements present in the dictionary :  5\n"
          ]
        }
      ]
    },
    {
      "cell_type": "markdown",
      "source": [
        "(v) Program to add all the values present in D :"
      ],
      "metadata": {
        "id": "624_hHI181eP"
      }
    },
    {
      "cell_type": "code",
      "source": [
        "D={1:5.6,2:7.8,3:6.6,4:8.7,5:7.7}\n",
        "print(\"sum of all the values in D is \",sum(D.values()))\n"
      ],
      "metadata": {
        "colab": {
          "base_uri": "https://localhost:8080/"
        },
        "id": "Abl8KnHW8_YX",
        "outputId": "3d2cec6d-880f-44fa-a291-33d6837dcd00"
      },
      "execution_count": null,
      "outputs": [
        {
          "output_type": "stream",
          "name": "stdout",
          "text": [
            "sum of all the values in D is  36.4\n"
          ]
        }
      ]
    },
    {
      "cell_type": "markdown",
      "source": [
        "(vi) Program to update the value of 3 to 7.1 :"
      ],
      "metadata": {
        "id": "Q2dlrbRP9l3y"
      }
    },
    {
      "cell_type": "code",
      "source": [
        "D={1:5.6,2:7.8,3:6.6,4:8.7,5:7.7}\n",
        "D[3]=7.1\n",
        "print(D)"
      ],
      "metadata": {
        "colab": {
          "base_uri": "https://localhost:8080/"
        },
        "id": "c9ubntg79w8j",
        "outputId": "9244dac4-da0c-4364-b9c9-1831bc36b441"
      },
      "execution_count": null,
      "outputs": [
        {
          "output_type": "stream",
          "name": "stdout",
          "text": [
            "{1: 5.6, 2: 7.8, 3: 7.1, 4: 8.7, 5: 7.7}\n"
          ]
        }
      ]
    },
    {
      "cell_type": "markdown",
      "source": [
        "(vii) Program to clear the dictionary :"
      ],
      "metadata": {
        "id": "KAh4k-Ag-DQM"
      }
    },
    {
      "cell_type": "code",
      "source": [
        "D={1:5.6,2:7.8,3:6.6,4:8.7,5:7.7}\n",
        "D.clear()\n",
        "print(\"after clearing the dictionary:\")\n",
        "print(D)"
      ],
      "metadata": {
        "colab": {
          "base_uri": "https://localhost:8080/"
        },
        "id": "Vv1FDpOI-J5K",
        "outputId": "ad2c03d4-1ae7-444f-c236-c166299550c3"
      },
      "execution_count": null,
      "outputs": [
        {
          "output_type": "stream",
          "name": "stdout",
          "text": [
            "after clearing the dictionary:\n",
            "{}\n"
          ]
        }
      ]
    },
    {
      "cell_type": "markdown",
      "source": [
        "### **Q.3 S1 is a set defined as S1={10,20,30,40,50,60}** and  **S2 is a set defined as S2={40,50,60,70,80,90}**"
      ],
      "metadata": {
        "id": "DI8plIBC-idZ"
      }
    },
    {
      "cell_type": "markdown",
      "source": [
        "(i) Program to add 55 and 66 in set S1 :"
      ],
      "metadata": {
        "id": "bjg1tYXg_iOw"
      }
    },
    {
      "cell_type": "code",
      "source": [
        "S1={10,20,30,40,50,60}\n",
        "S2={40,50,60,70,80,90}\n",
        "S1.add(55)\n",
        "S1.add(66)\n",
        "print(S1)"
      ],
      "metadata": {
        "colab": {
          "base_uri": "https://localhost:8080/"
        },
        "id": "zIPuCqBc_sXG",
        "outputId": "125eac1f-53f0-4465-e2a1-3e49a3209657"
      },
      "execution_count": null,
      "outputs": [
        {
          "output_type": "stream",
          "name": "stdout",
          "text": [
            "{50, 66, 20, 55, 40, 10, 60, 30}\n"
          ]
        }
      ]
    },
    {
      "cell_type": "markdown",
      "source": [
        "(ii) Program to remove 10 and 30 from set S1 :"
      ],
      "metadata": {
        "id": "b26ZVT0zArQw"
      }
    },
    {
      "cell_type": "code",
      "source": [
        "S1={10,20,30,40,50,60}\n",
        "S2={40,50,60,70,80,90}\n",
        "S1.remove(10)\n",
        "S1.remove(30)\n",
        "print(S1)"
      ],
      "metadata": {
        "colab": {
          "base_uri": "https://localhost:8080/"
        },
        "id": "OLsmYQKdA0Kt",
        "outputId": "718ad47f-442c-4f43-b8c0-baf9eac9560b"
      },
      "execution_count": null,
      "outputs": [
        {
          "output_type": "stream",
          "name": "stdout",
          "text": [
            "{50, 20, 40, 60}\n"
          ]
        }
      ]
    },
    {
      "cell_type": "markdown",
      "source": [
        "(iii) Program to check whether 40 is present in S1 :"
      ],
      "metadata": {
        "id": "Y9vWbTEiBGa9"
      }
    },
    {
      "cell_type": "code",
      "source": [
        "S1={10,20,30,40,50,60}\n",
        "S2={40,50,60,70,80,90}\n",
        "print(\"Is 40 present in S1? \")\n",
        "if (40 in S1)==True:\n",
        "  print(\"Yes\")\n",
        "else:\n",
        "  print(\"No\")"
      ],
      "metadata": {
        "colab": {
          "base_uri": "https://localhost:8080/"
        },
        "id": "2-qnULQ0BSSl",
        "outputId": "6a7b109e-e31a-420a-9484-832a80c476e4"
      },
      "execution_count": null,
      "outputs": [
        {
          "output_type": "stream",
          "name": "stdout",
          "text": [
            "Is 40 present in S1? \n",
            "Yes\n"
          ]
        }
      ]
    },
    {
      "cell_type": "markdown",
      "source": [
        "(iv) Program to find union between S1 and S2 :"
      ],
      "metadata": {
        "id": "Of-rKOPYBtub"
      }
    },
    {
      "cell_type": "code",
      "source": [
        "S1={10,20,30,40,50,60}\n",
        "S2={40,50,60,70,80,90}\n",
        "S3=S1.union(S2)\n",
        "print(S3)"
      ],
      "metadata": {
        "colab": {
          "base_uri": "https://localhost:8080/"
        },
        "id": "SQWgL1RBB2EF",
        "outputId": "9bd5e2dc-7263-4ce2-8cac-fe6f097141ff"
      },
      "execution_count": null,
      "outputs": [
        {
          "output_type": "stream",
          "name": "stdout",
          "text": [
            "{70, 40, 10, 80, 50, 20, 90, 60, 30}\n"
          ]
        }
      ]
    },
    {
      "cell_type": "markdown",
      "source": [
        "(v) Program to find intersection between S1 and S2 :"
      ],
      "metadata": {
        "id": "aRb1OW0TCDks"
      }
    },
    {
      "cell_type": "code",
      "source": [
        "S1={10,20,30,40,50,60}\n",
        "S2={40,50,60,70,80,90}\n",
        "S3=S1.intersection(S2)\n",
        "print(S3)"
      ],
      "metadata": {
        "colab": {
          "base_uri": "https://localhost:8080/"
        },
        "id": "o6-dEWVuCMyB",
        "outputId": "11c19240-79bf-4c01-bead-16aab8c2ae0c"
      },
      "execution_count": null,
      "outputs": [
        {
          "output_type": "stream",
          "name": "stdout",
          "text": [
            "{40, 50, 60}\n"
          ]
        }
      ]
    },
    {
      "cell_type": "markdown",
      "source": [
        "(vi) Program to find S1-S2 :"
      ],
      "metadata": {
        "id": "7_UnqtkoCTjN"
      }
    },
    {
      "cell_type": "code",
      "source": [
        "S1={10,20,30,40,50,60}\n",
        "S2={40,50,60,70,80,90}\n",
        "S3=S1.difference(S2)\n",
        "#S3=S1-S2\n",
        "print(S3)"
      ],
      "metadata": {
        "colab": {
          "base_uri": "https://localhost:8080/"
        },
        "id": "8hR6N5BrCZhK",
        "outputId": "34d81fb5-8a63-4aff-9026-c6f44a082375"
      },
      "execution_count": null,
      "outputs": [
        {
          "output_type": "stream",
          "name": "stdout",
          "text": [
            "{10, 20, 30}\n"
          ]
        }
      ]
    },
    {
      "cell_type": "markdown",
      "source": [
        "### **Q.4 Write the following programs :**"
      ],
      "metadata": {
        "id": "SqBaSXBEC8Yf"
      }
    },
    {
      "cell_type": "markdown",
      "source": [
        "(i) WAP to print 100 random strings whose length between 6 and 8 :"
      ],
      "metadata": {
        "id": "omZIELQNDYCI"
      }
    },
    {
      "cell_type": "code",
      "source": [
        "import string as s\n",
        "import random as r\n",
        "print(\"100 random strings are:\")\n",
        "def generate_random_string(length):\n",
        "    return ''.join(r.choices(s.ascii_letters + s.digits, k=length))\n",
        "for i in range(1, 101):\n",
        "    length = r.randint(6, 8)\n",
        "    random_string = generate_random_string(length)\n",
        "    print(f\"{i}. {random_string}\")\n"
      ],
      "metadata": {
        "colab": {
          "base_uri": "https://localhost:8080/"
        },
        "id": "WVUm7HkTD3Mf",
        "outputId": "25f6ed9e-e4cb-4740-d9ef-16a27ec9d8c4"
      },
      "execution_count": null,
      "outputs": [
        {
          "output_type": "stream",
          "name": "stdout",
          "text": [
            "100 random strings are:\n",
            "1. GxWgwv\n",
            "2. C3wUtf3D\n",
            "3. T1FfXR\n",
            "4. M3ARMAk\n",
            "5. 1hvqhz2W\n",
            "6. Cs2CM0jV\n",
            "7. xZUHE3KV\n",
            "8. ZzXgpKV4\n",
            "9. 6R2o63Nr\n",
            "10. O04yesKT\n",
            "11. jDz8sApN\n",
            "12. rI3sdBA\n",
            "13. yusvEO\n",
            "14. 6cbNZuIf\n",
            "15. eVBI1b7B\n",
            "16. iohabS7J\n",
            "17. wg88Dm\n",
            "18. MqV5zS\n",
            "19. WutsCgx\n",
            "20. bla0wiQp\n",
            "21. BgNT4Y24\n",
            "22. WqbccpN\n",
            "23. qKgm28x\n",
            "24. G3FY0NON\n",
            "25. 3uGMRJ2\n",
            "26. Duv1SWH\n",
            "27. mFXXijs\n",
            "28. oB1Zqq\n",
            "29. g5yNTqZy\n",
            "30. choWp8\n",
            "31. c8Arz1\n",
            "32. x3HVKY\n",
            "33. tn538Pt\n",
            "34. XtB1Aw\n",
            "35. rO502sK\n",
            "36. xHY8k2AZ\n",
            "37. yGXIWwhu\n",
            "38. bV6adEr\n",
            "39. QKusGT6\n",
            "40. 9kOPYrr\n",
            "41. 0Gk9L6bJ\n",
            "42. qODwKVz\n",
            "43. mB6ybQa\n",
            "44. Q6Opma\n",
            "45. yWFSxzPJ\n",
            "46. bn6gemau\n",
            "47. U4Amlb\n",
            "48. K3FsfPt\n",
            "49. h2qXCckE\n",
            "50. 2cvoBvkB\n",
            "51. r7VocUA0\n",
            "52. GHPCgx\n",
            "53. MD3CiOVA\n",
            "54. hQHh4m\n",
            "55. Iozp3ad\n",
            "56. wO6MNUPp\n",
            "57. TSqzGB\n",
            "58. HS9UOb\n",
            "59. 2JMJaQ\n",
            "60. KHySJTCt\n",
            "61. fuGCncMI\n",
            "62. m1qvfP\n",
            "63. qPZJMb0S\n",
            "64. YpUTDI\n",
            "65. yTt9uZJ3\n",
            "66. WIubQRZ\n",
            "67. k2nW7b\n",
            "68. kDwj10rQ\n",
            "69. KkTVsRAA\n",
            "70. HHkAce\n",
            "71. dqv9yqI\n",
            "72. 1A6fk3P\n",
            "73. b3pEb88M\n",
            "74. jj4b3L\n",
            "75. OctLZv\n",
            "76. Wc0t3wK\n",
            "77. h3YCss\n",
            "78. 5hWuIK\n",
            "79. xd7PhgO\n",
            "80. 96ry4CFw\n",
            "81. muVdCBA\n",
            "82. QTVzLA\n",
            "83. 4hQ1jON\n",
            "84. eZmgE7t\n",
            "85. 8M8ejSB\n",
            "86. KU92Ut3i\n",
            "87. xQ0KCB\n",
            "88. Z0CL5Bb4\n",
            "89. OhNE9mg\n",
            "90. 58wECIb\n",
            "91. UEFAHdtx\n",
            "92. WumgGyV\n",
            "93. AxteMWf\n",
            "94. RfbmJ4\n",
            "95. CRMRoE\n",
            "96. FnYMLB\n",
            "97. jiGn55Eg\n",
            "98. Aeb1JPIX\n",
            "99. YoeaLab\n",
            "100. nTtLl7\n"
          ]
        }
      ]
    },
    {
      "cell_type": "markdown",
      "source": [
        " (ii) WAP to print all prime numbers between 600 and 800 :"
      ],
      "metadata": {
        "id": "0_JGrP_9ELLP"
      }
    },
    {
      "cell_type": "code",
      "source": [
        "def is_prime(n):\n",
        "    if n < 2:\n",
        "        return False\n",
        "    for i in range(2, n//2 + 1):\n",
        "        if n % i == 0:\n",
        "            return False\n",
        "    return True\n",
        "\n",
        "print(\"Prime numbers between 600 and 800 are:\")\n",
        "for num in range(600, 801):\n",
        "    if is_prime(num):\n",
        "        print(num)\n"
      ],
      "metadata": {
        "colab": {
          "base_uri": "https://localhost:8080/"
        },
        "id": "2jfDX2CrHT3q",
        "outputId": "8c7a382f-ab88-4ab3-ef41-a2600c04d8f7"
      },
      "execution_count": 5,
      "outputs": [
        {
          "output_type": "stream",
          "name": "stdout",
          "text": [
            "Prime numbers between 600 and 800 are:\n",
            "601\n",
            "607\n",
            "613\n",
            "617\n",
            "619\n",
            "631\n",
            "641\n",
            "643\n",
            "647\n",
            "653\n",
            "659\n",
            "661\n",
            "673\n",
            "677\n",
            "683\n",
            "691\n",
            "701\n",
            "709\n",
            "719\n",
            "727\n",
            "733\n",
            "739\n",
            "743\n",
            "751\n",
            "757\n",
            "761\n",
            "769\n",
            "773\n",
            "787\n",
            "797\n"
          ]
        }
      ]
    },
    {
      "cell_type": "markdown",
      "source": [
        "(iii) WAP to print all numbers between 100 and 1000 that are divisible by 7 and 9 :"
      ],
      "metadata": {
        "id": "bd5sQAcTIW8l"
      }
    },
    {
      "cell_type": "code",
      "source": [
        "print(\"Numbers between 100 and 1000 divisible by both 7 and 9 are:\")\n",
        "\n",
        "for num in range(100, 1001):\n",
        "    if num % 7 == 0 and num % 9 == 0:\n",
        "        print(num)\n"
      ],
      "metadata": {
        "colab": {
          "base_uri": "https://localhost:8080/"
        },
        "id": "7C5hpZ88ItC3",
        "outputId": "b612d5b5-4d58-48b2-b246-e8815747054f"
      },
      "execution_count": 6,
      "outputs": [
        {
          "output_type": "stream",
          "name": "stdout",
          "text": [
            "Numbers between 100 and 1000 divisible by both 7 and 9 are:\n",
            "126\n",
            "189\n",
            "252\n",
            "315\n",
            "378\n",
            "441\n",
            "504\n",
            "567\n",
            "630\n",
            "693\n",
            "756\n",
            "819\n",
            "882\n",
            "945\n"
          ]
        }
      ]
    },
    {
      "cell_type": "markdown",
      "source": [
        "### **Q.5 WAP to create two lists of 10 random numbers between 10 and 30;**\n",
        "### **--> Find :**"
      ],
      "metadata": {
        "id": "zIg2clCmI7Bo"
      }
    },
    {
      "cell_type": "markdown",
      "source": [
        "(i) Common numners in the two lists\n",
        "\n",
        "(ii) Unique numbers in both the lists\n",
        "\n",
        "(iii) Minimum in both the lists\n",
        "\n",
        "(iv) Maximum in both the lists\n",
        "\n",
        "(v) Sum of both the lists"
      ],
      "metadata": {
        "id": "ByUzFxkxJQEj"
      }
    },
    {
      "cell_type": "code",
      "source": [
        "import random as r\n",
        "\n",
        "L1 = [r.randint(10, 30) for _ in range(10)]\n",
        "L2 = [r.randint(10, 30) for _ in range(10)]\n",
        "\n",
        "print(\"List 1:\", L1)\n",
        "print(\"List 2:\", L2)\n",
        "\n",
        "common = list(set(L1) & set(L2))\n",
        "print(\"\\n(i) Common numbers:\", common)\n",
        "\n",
        "unique = list(set(L1) ^ set(L2))\n",
        "print(\"(ii) Unique numbers in both lists:\", unique)\n",
        "\n",
        "print(\"(iii) Minimum in List 1:\", min(L1))\n",
        "print(\"      Minimum in List 2:\", min(L2))\n",
        "\n",
        "print(\"(iv) Maximum in List 1:\", max(L1))\n",
        "print(\"      Maximum in List 2:\", max(L2))\n",
        "\n",
        "print(\"(v) Sum of List 1:\", sum(L1))\n",
        "print(\"    Sum of List 2:\", sum(L2))\n"
      ],
      "metadata": {
        "colab": {
          "base_uri": "https://localhost:8080/"
        },
        "id": "mFB5g8tMKhbH",
        "outputId": "7ddb8440-fee8-462b-fe58-5d44d75925f6"
      },
      "execution_count": 10,
      "outputs": [
        {
          "output_type": "stream",
          "name": "stdout",
          "text": [
            "List 1: [14, 14, 20, 11, 26, 19, 30, 26, 24, 10]\n",
            "List 2: [24, 29, 15, 13, 26, 11, 30, 15, 25, 23]\n",
            "\n",
            "(i) Common numbers: [24, 26, 11, 30]\n",
            "(ii) Unique numbers in both lists: [10, 13, 14, 15, 19, 20, 23, 25, 29]\n",
            "(iii) Minimum in List 1: 10\n",
            "      Minimum in List 2: 11\n",
            "(iv) Maximum in List 1: 30\n",
            "      Maximum in List 2: 30\n",
            "(v) Sum of List 1: 194\n",
            "    Sum of List 2: 211\n"
          ]
        }
      ]
    },
    {
      "cell_type": "markdown",
      "source": [
        "### **Q.6 WAP to create a list of 100 random numbers between 100 and 900;**\n",
        "### **--> Count and Print the :**\n",
        "\n",
        "---\n",
        "\n"
      ],
      "metadata": {
        "id": "M6E3po8SMTVM"
      }
    },
    {
      "cell_type": "markdown",
      "source": [
        "(i) All odd numbers\n",
        "\n",
        "(ii) All even numbers\n",
        "\n",
        "(iii) All prime numbers"
      ],
      "metadata": {
        "id": "EaZ50l2FM7_z"
      }
    },
    {
      "cell_type": "code",
      "source": [
        "import random as r\n",
        "\n",
        "def is_prime(n):\n",
        "    if n < 2:\n",
        "        return False\n",
        "    for i in range(2, n//2 + 1):\n",
        "        if n % i == 0:\n",
        "            return False\n",
        "    return True\n",
        "\n",
        "numbers = [r.randint(100, 900) for _ in range(100)]\n",
        "\n",
        "print(\"Generated list of numbers:\")\n",
        "print(numbers)\n",
        "\n",
        "odd_numbers = [num for num in numbers if num % 2 != 0]\n",
        "print(f\"\\n(i) All odd numbers ({len(odd_numbers)}):\")\n",
        "print(odd_numbers)\n",
        "\n",
        "even_numbers = [num for num in numbers if num % 2 == 0]\n",
        "print(f\"\\n(ii) All even numbers ({len(even_numbers)}):\")\n",
        "print(even_numbers)\n",
        "\n",
        "prime_numbers = [num for num in numbers if is_prime(num)]\n",
        "print(f\"\\n(iii) All prime numbers ({len(prime_numbers)}):\")\n",
        "print(prime_numbers)\n"
      ],
      "metadata": {
        "colab": {
          "base_uri": "https://localhost:8080/"
        },
        "id": "GyvDkyJ7Mw-u",
        "outputId": "41267f16-df59-4643-818e-960bb127a672"
      },
      "execution_count": 12,
      "outputs": [
        {
          "output_type": "stream",
          "name": "stdout",
          "text": [
            "Generated list of numbers:\n",
            "[342, 375, 798, 468, 639, 744, 679, 484, 383, 454, 105, 545, 883, 538, 743, 479, 830, 385, 152, 267, 742, 754, 656, 153, 426, 811, 329, 464, 882, 669, 777, 260, 788, 707, 183, 495, 329, 128, 464, 248, 206, 794, 394, 359, 643, 628, 216, 364, 736, 241, 172, 215, 708, 544, 758, 269, 650, 716, 582, 633, 839, 780, 616, 310, 458, 143, 316, 816, 661, 856, 177, 515, 673, 581, 430, 664, 743, 876, 359, 614, 851, 227, 324, 559, 322, 701, 762, 520, 472, 613, 885, 848, 143, 669, 388, 347, 158, 228, 153, 666]\n",
            "\n",
            "(i) All odd numbers (45):\n",
            "[375, 639, 679, 383, 105, 545, 883, 743, 479, 385, 267, 153, 811, 329, 669, 777, 707, 183, 495, 329, 359, 643, 241, 215, 269, 633, 839, 143, 661, 177, 515, 673, 581, 743, 359, 851, 227, 559, 701, 613, 885, 143, 669, 347, 153]\n",
            "\n",
            "(ii) All even numbers (55):\n",
            "[342, 798, 468, 744, 484, 454, 538, 830, 152, 742, 754, 656, 426, 464, 882, 260, 788, 128, 464, 248, 206, 794, 394, 628, 216, 364, 736, 172, 708, 544, 758, 650, 716, 582, 780, 616, 310, 458, 316, 816, 856, 430, 664, 876, 614, 324, 322, 762, 520, 472, 848, 388, 158, 228, 666]\n",
            "\n",
            "(iii) All prime numbers (18):\n",
            "[383, 883, 743, 479, 811, 359, 643, 241, 269, 839, 661, 673, 743, 359, 227, 701, 613, 347]\n"
          ]
        }
      ]
    },
    {
      "cell_type": "markdown",
      "source": [
        "### **Q.7 D is a dictionary defined as D = {1:\"one\",2:\"two\",3:\"three\"\",4:\"four\",5\":five\"}.**"
      ],
      "metadata": {
        "id": "ScBA03HXOFdD"
      }
    },
    {
      "cell_type": "markdown",
      "source": [
        "### WAP to read all the keys and values from dictionary and write to the file in given below format:\n",
        "key1,value1\n",
        "\n",
        "key2,value2\n",
        "\n",
        "key3,value3\n",
        "\n"
      ],
      "metadata": {
        "id": "WYf2_p9BOhXt"
      }
    },
    {
      "cell_type": "code",
      "source": [
        "D = {1: \"one\", 2: \"two\", 3: \"three\", 4: \"four\", 5: \"five\"}\n",
        "\n",
        "with open(\"dictionary_output.txt\", \"w\") as file:\n",
        "    for key, value in D.items():\n",
        "        file.write(f\"{key},{value}\\n\")\n",
        "\n",
        "print(\"Dictionary contents written to 'dictionary_output.txt'\")\n"
      ],
      "metadata": {
        "colab": {
          "base_uri": "https://localhost:8080/"
        },
        "id": "f-uZSo-rQM7q",
        "outputId": "762a7e41-57bd-4038-fee6-4e00b2582aa6"
      },
      "execution_count": 15,
      "outputs": [
        {
          "output_type": "stream",
          "name": "stdout",
          "text": [
            "Dictionary contents written to 'dictionary_output.txt'\n"
          ]
        }
      ]
    },
    {
      "cell_type": "markdown",
      "source": [
        "### **Q.8 L is a list defined as L = [\"one\",\"two\",\"three\",\"four\",\"five\"].**"
      ],
      "metadata": {
        "id": "PLxFdHxXRJH1"
      }
    },
    {
      "cell_type": "markdown",
      "source": [
        "### WAP to count the length of each element from a list and write to the file in given below format:\n",
        "one,3\n",
        "\n",
        "two,3\n",
        "\n",
        "four,4\n",
        "\n"
      ],
      "metadata": {
        "id": "8ZvFIjGLRom1"
      }
    },
    {
      "cell_type": "code",
      "source": [
        "L = [\"one\", \"two\", \"three\", \"four\", \"five\"]\n",
        "\n",
        "with open(\"list_lengths.txt\", \"w\") as file:\n",
        "    for item in L:\n",
        "        file.write(f\"{item},{len(item)}\\n\")\n",
        "\n",
        "print(\"List item lengths written to 'list_lengths.txt'\")\n"
      ],
      "metadata": {
        "colab": {
          "base_uri": "https://localhost:8080/"
        },
        "id": "ZPCNVYFdSHdk",
        "outputId": "9fc33295-ac70-453a-e5fd-9fab1a4a8b36"
      },
      "execution_count": 16,
      "outputs": [
        {
          "output_type": "stream",
          "name": "stdout",
          "text": [
            "List item lengths written to 'list_lengths.txt'\n"
          ]
        }
      ]
    },
    {
      "cell_type": "markdown",
      "source": [
        "### **Q.9 Write to the file 100 random strings whose length between 10 and 15.**"
      ],
      "metadata": {
        "id": "MnR4BAuhSbZS"
      }
    },
    {
      "cell_type": "code",
      "source": [
        "import random as r\n",
        "with open(\"random_strings.txt\", \"w\") as file:\n",
        "    for _ in range(100):\n",
        "        length = r.randint(10, 15)\n",
        "        random_string = ''.join(r.choices('abcdefghijklmnopqrstuvwxyz', k=length))\n",
        "        file.write(random_string + '\\n')\n",
        "print(\"100 random strings of different lengths written to 'random_strings.txt'\")\n"
      ],
      "metadata": {
        "colab": {
          "base_uri": "https://localhost:8080/"
        },
        "id": "RTfy_tPzSuFv",
        "outputId": "a47ef05c-9303-4bba-ac3c-dd37e40658eb"
      },
      "execution_count": 21,
      "outputs": [
        {
          "output_type": "stream",
          "name": "stdout",
          "text": [
            "100 random strings of different lengths written to 'random_strings.txt'\n"
          ]
        }
      ]
    },
    {
      "cell_type": "markdown",
      "source": [
        "### **Q.10 Write to the file all prime numbers between 600 and 800.**"
      ],
      "metadata": {
        "id": "SgetxCdvTvCK"
      }
    },
    {
      "cell_type": "code",
      "source": [
        "def is_prime(n):\n",
        "    if n < 2:\n",
        "        return False\n",
        "    for i in range(2, n//2 + 1):\n",
        "        if n % i == 0:\n",
        "            return False\n",
        "    return True\n",
        "with open(\"prime_numbers.txt\", \"w\") as file:\n",
        "    for num in range(600, 801):\n",
        "        if is_prime(num):\n",
        "            file.write(str(num) + '\\n')\n",
        "print(\"Prime numbers between 600 and 800 written to 'prime_numbers.txt'\")"
      ],
      "metadata": {
        "colab": {
          "base_uri": "https://localhost:8080/"
        },
        "id": "Yd9mFHA2T7XE",
        "outputId": "3b2e251f-3de6-4be9-d507-f83a74f12584"
      },
      "execution_count": 22,
      "outputs": [
        {
          "output_type": "stream",
          "name": "stdout",
          "text": [
            "Prime numbers between 600 and 800 written to 'prime_numbers.txt'\n"
          ]
        }
      ]
    },
    {
      "cell_type": "markdown",
      "source": [
        "### **Q.11 WAP to calculate time taken by a program.**"
      ],
      "metadata": {
        "id": "TiEhFmBLUzAa"
      }
    },
    {
      "cell_type": "code",
      "source": [
        "import time as t\n",
        "t.time()\n"
      ],
      "metadata": {
        "colab": {
          "base_uri": "https://localhost:8080/"
        },
        "id": "Sj8hdz0AU-AZ",
        "outputId": "115205f7-42ff-4ee6-f095-29d93e4c93a2"
      },
      "execution_count": 23,
      "outputs": [
        {
          "output_type": "execute_result",
          "data": {
            "text/plain": [
              "1749835700.0229828"
            ]
          },
          "metadata": {},
          "execution_count": 23
        }
      ]
    },
    {
      "cell_type": "markdown",
      "source": [
        "--> Taking an example program for calculating the time of the program:"
      ],
      "metadata": {
        "id": "8ov7_Gs_VufQ"
      }
    },
    {
      "cell_type": "code",
      "source": [
        "import time as t\n",
        "\n",
        "start_time = t.time()\n",
        "\n",
        "# Example program: generate prime numbers up to 10,000\n",
        "primes = []\n",
        "for num in range(2, 10000):\n",
        "    for i in range(2, int(num ** 0.5) + 1):\n",
        "        if num % i == 0:\n",
        "            break\n",
        "    else:\n",
        "        primes.append(num)\n",
        "# Example program ends\n",
        "\n",
        "end_time = t.time()\n",
        "\n",
        "elapsed_time = end_time - start_time\n",
        "print(f\"\\nTime taken by the program: {elapsed_time:.4f} seconds\")\n"
      ],
      "metadata": {
        "colab": {
          "base_uri": "https://localhost:8080/"
        },
        "id": "IL9RKwYSV25A",
        "outputId": "94ba8979-5165-4cdb-c0f5-f3b53454f9f0"
      },
      "execution_count": 25,
      "outputs": [
        {
          "output_type": "stream",
          "name": "stdout",
          "text": [
            "\n",
            "Time taken by the program: 0.0151 seconds\n"
          ]
        }
      ]
    },
    {
      "cell_type": "markdown",
      "source": [
        "### **Q.12 WAP to sort following number of elements in a list,calculate time taken and plot the graph:**\n",
        "![image.png](data:image/png;base64,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)"
      ],
      "metadata": {
        "id": "VVlM8tDyWw6_"
      }
    },
    {
      "cell_type": "code",
      "source": [
        "import time as t\n",
        "import random as r\n",
        "import matplotlib.pyplot as plt\n",
        "\n",
        "sizes = [5000, 10000, 15000, 20000, 25000]\n",
        "times = []\n",
        "\n",
        "for size in sizes:\n",
        "    data = [r.randint(1, 100000) for _ in range(size)]  # Random list\n",
        "    start_time = t.time()\n",
        "    sorted_data = sorted(data)\n",
        "    end_time = t.time()\n",
        "    elapsed = end_time - start_time\n",
        "    times.append(elapsed)\n",
        "    print(f\"Sorted {size} elements in {elapsed:.4f} seconds.\")\n",
        "\n",
        "plt.plot(sizes, times, marker='o', linestyle='-', color='blue')\n",
        "plt.title(\"List Size vs Time Taken to Sort\")\n",
        "plt.xlabel(\"Number of Elements\")\n",
        "plt.ylabel(\"Time Taken (seconds)\")\n",
        "plt.grid(True)\n",
        "plt.tight_layout()\n",
        "plt.show()\n"
      ],
      "metadata": {
        "colab": {
          "base_uri": "https://localhost:8080/",
          "height": 578
        },
        "id": "VVb63KSKXXw3",
        "outputId": "d59e3d9f-d617-4bb8-88a2-f05d5014a11f"
      },
      "execution_count": 29,
      "outputs": [
        {
          "output_type": "stream",
          "name": "stdout",
          "text": [
            "Sorted 5000 elements in 0.0008 seconds.\n",
            "Sorted 10000 elements in 0.0018 seconds.\n",
            "Sorted 15000 elements in 0.0032 seconds.\n",
            "Sorted 20000 elements in 0.0043 seconds.\n",
            "Sorted 25000 elements in 0.0056 seconds.\n"
          ]
        },
        {
          "output_type": "display_data",
          "data": {
            "text/plain": [
              "<Figure size 640x480 with 1 Axes>"
            ],
            "image/png": "[encoded data removed]"
          },
          "metadata": {}
        }
      ]
    },
    {
      "cell_type": "markdown",
      "source": [
        "### **Q.13 WAP to create a dictionary of student marks in five subjects and you have to find the student having maximum and minimum marks.**"
      ],
      "metadata": {
        "id": "Iyo0ZziSY7cs"
      }
    },
    {
      "cell_type": "code",
      "source": [
        "student_marks = {\n",
        "    \"Ram\": [85, 78, 92, 88, 76],\n",
        "    \"Shyam\": [70, 65, 80, 72, 68],\n",
        "    \"Geeta\": [90, 95, 88, 92, 94],\n",
        "    \"Roshani\": [60, 55, 58, 62, 50],\n",
        "    \"Reetika\": [77, 80, 79, 85, 81]\n",
        "}\n",
        "\n",
        "total_marks = {student: sum(marks) for student, marks in student_marks.items()}\n",
        "\n",
        "max_student = max(total_marks, key=total_marks.get)\n",
        "min_student = min(total_marks, key=total_marks.get)\n",
        "\n",
        "print(\"Total marks of each student:\")\n",
        "for student, total in total_marks.items():\n",
        "    print(f\"{student}: {total}\")\n",
        "\n",
        "print(f\"\\nStudent with Maximum Marks: {max_student} ({total_marks[max_student]})\")\n",
        "print(f\"Student with Minimum Marks: {min_student} ({total_marks[min_student]})\")\n"
      ],
      "metadata": {
        "colab": {
          "base_uri": "https://localhost:8080/"
        },
        "id": "i0oGmC_ia1f4",
        "outputId": "ed7cf51d-155b-41fe-988e-925b992d97e7"
      },
      "execution_count": 31,
      "outputs": [
        {
          "output_type": "stream",
          "name": "stdout",
          "text": [
            "Total marks of each student:\n",
            "Ram: 419\n",
            "Shyam: 355\n",
            "Geeta: 459\n",
            "Roshani: 285\n",
            "Reetika: 402\n",
            "\n",
            "Student with Maximum Marks: Geeta (459)\n",
            "Student with Minimum Marks: Roshani (285)\n"
          ]
        }
      ]
    },
    {
      "cell_type": "markdown",
      "source": [
        "---\n",
        "\n",
        "### ** **ASSIGNMENT COMPLETED.** **\n",
        "\n",
        "---"
      ],
      "metadata": {
        "id": "NQKe4pJZbkKM"
      }
    }
  ]
}