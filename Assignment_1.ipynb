{
  "nbformat": 4,
  "nbformat_minor": 0,
  "metadata": {
    "colab": {
      "provenance": [],
      "authorship_tag": "ABX9TyOA36Fq0fjrEUpMHcHaxUrz",
      "include_colab_link": true
    },
    "kernelspec": {
      "name": "python3",
      "display_name": "Python 3"
    },
    "language_info": {
      "name": "python"
    }
  },
  "cells": [
    {
      "cell_type": "markdown",
      "metadata": {
        "id": "view-in-github",
        "colab_type": "text"
      },
      "source": [
        "<a href=\"https://colab.research.google.com/github/itz-mehku/Mini-Project-01/blob/main/Assignment_1.ipynb\" target=\"_parent\"><img src=\"https://colab.research.google.com/assets/colab-badge.svg\" alt=\"Open In Colab\"/></a>"
      ]
    },
    {
      "cell_type": "markdown",
      "source": [
        "---\n",
        "# **Mini Project - 01 : Python Assignment**\n",
        "---\n",
        "\n",
        "\n",
        "\n",
        "\n",
        "\n",
        "### **Q.1 L is a list defined as L=[11,12,13,14].**\n",
        "(i) program to add 50 and 60 in L :\n"
      ],
      "metadata": {
        "id": "28bJaQ2Yz54e"
      }
    },
    {
      "cell_type": "code",
      "source": [
        "L=[11,12,13,14]\n",
        "L.append(50)\n",
        "L.append(60)\n",
        "print(\"Updated list is \",L)"
      ],
      "metadata": {
        "colab": {
          "base_uri": "https://localhost:8080/"
        },
        "id": "3MlqzeJ82XYw",
        "outputId": "06458317-df32-45c6-dc84-6c11da130712"
      },
      "execution_count": null,
      "outputs": [
        {
          "output_type": "stream",
          "name": "stdout",
          "text": [
            "Updated list is  [11, 12, 13, 14, 50, 60]\n"
          ]
        }
      ]
    },
    {
      "cell_type": "markdown",
      "source": [
        "   (ii) Program to remove 11 and 13 from list :"
      ],
      "metadata": {
        "id": "j0vGbmyT2nNl"
      }
    },
    {
      "cell_type": "code",
      "source": [
        "L=[11,12,13,14]\n",
        "L.remove(11)\n",
        "L.remove(13)\n",
        "print(\"Updated list is \",L)"
      ],
      "metadata": {
        "colab": {
          "base_uri": "https://localhost:8080/"
        },
        "id": "kqVUhTOy3O-W",
        "outputId": "2ce5c0ea-4561-499e-adc2-b7253f9a5b66"
      },
      "execution_count": null,
      "outputs": [
        {
          "output_type": "stream",
          "name": "stdout",
          "text": [
            "Updated list is  [12, 14]\n"
          ]
        }
      ]
    },
    {
      "cell_type": "markdown",
      "source": [
        "(iii) Program to sort L in ascending order :"
      ],
      "metadata": {
        "id": "hoSVNWEg5FFX"
      }
    },
    {
      "cell_type": "code",
      "source": [
        "L=[11,12,13,14]\n",
        "L.sort()\n",
        "print(\"Updated list in ascending order \",L)\n"
      ],
      "metadata": {
        "colab": {
          "base_uri": "https://localhost:8080/"
        },
        "id": "rOEGbTbY5akb",
        "outputId": "95708748-bdb3-4a43-e282-572f314262b8"
      },
      "execution_count": null,
      "outputs": [
        {
          "output_type": "stream",
          "name": "stdout",
          "text": [
            "Updated list in ascending order  [11, 12, 13, 14]\n"
          ]
        }
      ]
    },
    {
      "cell_type": "markdown",
      "source": [
        "(iv) Program to sort L in descending order :"
      ],
      "metadata": {
        "id": "kVpEvwq35zRK"
      }
    },
    {
      "cell_type": "code",
      "source": [
        "L=[11,12,13,14]\n",
        "L.sort(reverse=True)\n",
        "print(\"Updated list in descending order \",L)\n"
      ],
      "metadata": {
        "colab": {
          "base_uri": "https://localhost:8080/"
        },
        "id": "gDyu1Je654i5",
        "outputId": "f5a84756-58d7-4f22-8784-d142f51b3c30"
      },
      "execution_count": null,
      "outputs": [
        {
          "output_type": "stream",
          "name": "stdout",
          "text": [
            "Updated list in descending order  [14, 13, 12, 11]\n"
          ]
        }
      ]
    },
    {
      "cell_type": "markdown",
      "source": [
        "(v) Program to search for 13 in L :"
      ],
      "metadata": {
        "id": "EQpKr_Sn6QJa"
      }
    },
    {
      "cell_type": "code",
      "source": [
        "L=[11,12,13,14]\n",
        "print(\"13 in L ?\")\n",
        "if (13 in L)==True:\n",
        "  print(\"Yes, at index \",L.index(13))\n",
        "else:\n",
        "  print(\"No\")\n",
        "\n"
      ],
      "metadata": {
        "colab": {
          "base_uri": "https://localhost:8080/"
        },
        "id": "buVgbnCn6abF",
        "outputId": "6a13d0d7-c5c0-4faf-cfd9-1b9bdd12f4fb"
      },
      "execution_count": null,
      "outputs": [
        {
          "output_type": "stream",
          "name": "stdout",
          "text": [
            "13 in L ?\n",
            "Yes, at index  3\n"
          ]
        }
      ]
    },
    {
      "cell_type": "markdown",
      "source": [
        "(vi) Program to count the number of elements present in L :"
      ],
      "metadata": {
        "id": "C_a1gubP7-Bt"
      }
    },
    {
      "cell_type": "code",
      "source": [
        "L=[11,12,13,14]\n",
        "print(\"number of elements present in the list : \",len(L))\n"
      ],
      "metadata": {
        "colab": {
          "base_uri": "https://localhost:8080/"
        },
        "id": "p186s0018LYs",
        "outputId": "1d60c7a0-22cb-4e8c-ef73-c8fe631baed5"
      },
      "execution_count": null,
      "outputs": [
        {
          "output_type": "stream",
          "name": "stdout",
          "text": [
            "number of elements present in the list :  4\n"
          ]
        }
      ]
    },
    {
      "cell_type": "markdown",
      "source": [
        "(vii) Program to sum all the elements in L :"
      ],
      "metadata": {
        "id": "Qo09s7PR8sYN"
      }
    },
    {
      "cell_type": "code",
      "source": [
        "L=[11,12,13,14]\n",
        "print(\"sum of all the elements in L is \",sum(L))\n"
      ],
      "metadata": {
        "colab": {
          "base_uri": "https://localhost:8080/"
        },
        "id": "mJ1vCO708x7l",
        "outputId": "3ec5881a-dd37-43c3-9592-d583fdb652f6"
      },
      "execution_count": null,
      "outputs": [
        {
          "output_type": "stream",
          "name": "stdout",
          "text": [
            "sum of all the elements in L is  50\n"
          ]
        }
      ]
    },
    {
      "cell_type": "markdown",
      "source": [
        "(viii) Program to sum all **odd** numbers in L :"
      ],
      "metadata": {
        "id": "09piIxSG9I39"
      }
    },
    {
      "cell_type": "code",
      "source": [
        "L=[11,12,13,14]\n",
        "sum=0\n",
        "for i in L:\n",
        "  if i%2!=0:\n",
        "    sum=sum+i\n",
        "print(\"sum of all odd numbers in L is \",sum)\n"
      ],
      "metadata": {
        "colab": {
          "base_uri": "https://localhost:8080/"
        },
        "id": "qOI6nNWc9SvJ",
        "outputId": "669309f9-8eaa-4914-8e64-ccfe98732257"
      },
      "execution_count": null,
      "outputs": [
        {
          "output_type": "stream",
          "name": "stdout",
          "text": [
            "sum of all odd numbers in L is  24\n"
          ]
        }
      ]
    },
    {
      "cell_type": "markdown",
      "source": [
        "(ix) Program to sum all **even** numbers in L"
      ],
      "metadata": {
        "id": "wt0RLR1r9vyT"
      }
    },
    {
      "cell_type": "code",
      "source": [
        "L=[11,12,13,14]\n",
        "sum=0\n",
        "for i in L:\n",
        "  if i%2==0:\n",
        "    sum=sum+i\n",
        "print(\"sum of all even numbers in L is \",sum)"
      ],
      "metadata": {
        "colab": {
          "base_uri": "https://localhost:8080/"
        },
        "id": "LQYJ5Dnv92nJ",
        "outputId": "d791fd72-0413-4c60-d466-0ada709ab43c"
      },
      "execution_count": null,
      "outputs": [
        {
          "output_type": "stream",
          "name": "stdout",
          "text": [
            "sum of all even numbers in L is  26\n"
          ]
        }
      ]
    },
    {
      "cell_type": "markdown",
      "source": [
        "(x) Program to sum all **prime** numbers in L :"
      ],
      "metadata": {
        "id": "a_ucRixW-NVI"
      }
    },
    {
      "cell_type": "code",
      "source": [
        "L=[11,12,13,14]\n",
        "sum=0\n",
        "for i in L:\n",
        "  if i%2!=0:\n",
        "    sum=sum+i\n",
        "print(\"sum of all prime numbers in L is \",sum)"
      ],
      "metadata": {
        "colab": {
          "base_uri": "https://localhost:8080/"
        },
        "id": "dF7M84BL-ZD0",
        "outputId": "15ff83dc-7904-4643-e0ce-06d9dab29df1"
      },
      "execution_count": null,
      "outputs": [
        {
          "output_type": "stream",
          "name": "stdout",
          "text": [
            "sum of all prime numbers in L is  24\n"
          ]
        }
      ]
    },
    {
      "cell_type": "markdown",
      "source": [
        "(xi) Program to clear all the elements in L :"
      ],
      "metadata": {
        "id": "Rt2lUCAC_xMn"
      }
    },
    {
      "cell_type": "code",
      "source": [
        "L=[11,12,13,14]\n",
        "L.clear()\n",
        "print(L)"
      ],
      "metadata": {
        "colab": {
          "base_uri": "https://localhost:8080/"
        },
        "id": "HvPePMpO_4wO",
        "outputId": "14419e0f-0fae-4bef-8b28-1a650ee643e6"
      },
      "execution_count": null,
      "outputs": [
        {
          "output_type": "stream",
          "name": "stdout",
          "text": [
            "[]\n"
          ]
        }
      ]
    },
    {
      "cell_type": "markdown",
      "source": [
        "(xii) Program to delete L :"
      ],
      "metadata": {
        "id": "DTvhftu_A4m9"
      }
    },
    {
      "cell_type": "code",
      "source": [
        "L=[11,12,13,14]\n",
        "del(L)\n",
        "print(\"deleted\")"
      ],
      "metadata": {
        "colab": {
          "base_uri": "https://localhost:8080/"
        },
        "id": "GJx4UIhuA9Mr",
        "outputId": "4b511416-a232-4eda-cc24-b8f4d1b3c0f2"
      },
      "execution_count": null,
      "outputs": [
        {
          "output_type": "stream",
          "name": "stdout",
          "text": [
            "deleted\n"
          ]
        }
      ]
    },
    {
      "cell_type": "markdown",
      "source": [
        "\n",
        "### **Q.2 D is a dictionary defined as D={1:5.6,2:7.8,3:6.6,4:8.7,5:7.7}.**\n",
        "(i) Program to add new entry in D;key=8 and value=8.8 :\n"
      ],
      "metadata": {
        "id": "jRE_0TK_BoaU"
      }
    },
    {
      "cell_type": "code",
      "source": [
        "D={1:5.6,2:7.8,3:6.6,4:8.7,5:7.7}\n",
        "D[8]=8.8\n",
        "print(D)"
      ],
      "metadata": {
        "id": "EJOotcriCsrF",
        "colab": {
          "base_uri": "https://localhost:8080/"
        },
        "outputId": "542af08a-eee2-4616-b19b-657fc3fe436a"
      },
      "execution_count": null,
      "outputs": [
        {
          "output_type": "stream",
          "name": "stdout",
          "text": [
            "{1: 5.6, 2: 7.8, 3: 6.6, 4: 8.7, 5: 7.7, 8: 8.8}\n"
          ]
        }
      ]
    },
    {
      "cell_type": "markdown",
      "source": [
        "(ii) Program to remove key=2 :"
      ],
      "metadata": {
        "id": "ounvI6Ie572g"
      }
    },
    {
      "cell_type": "code",
      "source": [
        "D={1:5.6,2:7.8,3:6.6,4:8.7,5:7.7}\n",
        "del D[2]\n",
        "print(D)"
      ],
      "metadata": {
        "colab": {
          "base_uri": "https://localhost:8080/"
        },
        "id": "06x9YWjr6sKV",
        "outputId": "a0ffe762-2a20-4c70-8c84-57e9ed6f2330"
      },
      "execution_count": null,
      "outputs": [
        {
          "output_type": "stream",
          "name": "stdout",
          "text": [
            "{1: 5.6, 3: 6.6, 4: 8.7, 5: 7.7}\n"
          ]
        }
      ]
    },
    {
      "cell_type": "markdown",
      "source": [
        "(iii) Program to check whether 6 key is present in D :"
      ],
      "metadata": {
        "id": "BiEnprQq7epp"
      }
    },
    {
      "cell_type": "code",
      "source": [
        "D={1:5.6,2:7.8,3:6.6,4:8.7,5:7.7}\n",
        "print(\"Is key 6 present in D? \")\n",
        "if (6 in D)==True:\n",
        "  print(\"Yes\")\n",
        "else:\n",
        "  print(\"No\")\n",
        "\n"
      ],
      "metadata": {
        "colab": {
          "base_uri": "https://localhost:8080/"
        },
        "id": "zj-XPmfL7x1z",
        "outputId": "82d80d32-9a0e-48f8-87b4-6a05f48edd78"
      },
      "execution_count": null,
      "outputs": [
        {
          "output_type": "stream",
          "name": "stdout",
          "text": [
            "Is key 6 present in D? \n",
            "No\n"
          ]
        }
      ]
    },
    {
      "cell_type": "markdown",
      "source": [
        "(iv) Program to count the number of elements present in D :"
      ],
      "metadata": {
        "id": "TwgmOgxT8dDk"
      }
    },
    {
      "cell_type": "code",
      "source": [
        "D={1:5.6,2:7.8,3:6.6,4:8.7,5:7.7}\n",
        "print(\"number of elements present in the dictionary : \",len(D))"
      ],
      "metadata": {
        "colab": {
          "base_uri": "https://localhost:8080/"
        },
        "id": "y-0Iy_6e8pAa",
        "outputId": "34df4475-033e-4ca5-b227-51ebd32733b9"
      },
      "execution_count": null,
      "outputs": [
        {
          "output_type": "stream",
          "name": "stdout",
          "text": [
            "number of elements present in the dictionary :  5\n"
          ]
        }
      ]
    },
    {
      "cell_type": "markdown",
      "source": [
        "(v) Program to add all the values present in D :"
      ],
      "metadata": {
        "id": "624_hHI181eP"
      }
    },
    {
      "cell_type": "code",
      "source": [
        "D={1:5.6,2:7.8,3:6.6,4:8.7,5:7.7}\n",
        "print(\"sum of all the values in D is \",sum(D.values()))\n"
      ],
      "metadata": {
        "colab": {
          "base_uri": "https://localhost:8080/"
        },
        "id": "Abl8KnHW8_YX",
        "outputId": "3d2cec6d-880f-44fa-a291-33d6837dcd00"
      },
      "execution_count": null,
      "outputs": [
        {
          "output_type": "stream",
          "name": "stdout",
          "text": [
            "sum of all the values in D is  36.4\n"
          ]
        }
      ]
    },
    {
      "cell_type": "markdown",
      "source": [
        "(vi) Program to update the value of 3 to 7.1 :"
      ],
      "metadata": {
        "id": "Q2dlrbRP9l3y"
      }
    },
    {
      "cell_type": "code",
      "source": [
        "D={1:5.6,2:7.8,3:6.6,4:8.7,5:7.7}\n",
        "D[3]=7.1\n",
        "print(D)"
      ],
      "metadata": {
        "colab": {
          "base_uri": "https://localhost:8080/"
        },
        "id": "c9ubntg79w8j",
        "outputId": "9244dac4-da0c-4364-b9c9-1831bc36b441"
      },
      "execution_count": null,
      "outputs": [
        {
          "output_type": "stream",
          "name": "stdout",
          "text": [
            "{1: 5.6, 2: 7.8, 3: 7.1, 4: 8.7, 5: 7.7}\n"
          ]
        }
      ]
    },
    {
      "cell_type": "markdown",
      "source": [
        "(vii) Program to clear the dictionary :"
      ],
      "metadata": {
        "id": "KAh4k-Ag-DQM"
      }
    },
    {
      "cell_type": "code",
      "source": [
        "D={1:5.6,2:7.8,3:6.6,4:8.7,5:7.7}\n",
        "D.clear()\n",
        "print(\"after clearing the dictionary:\")\n",
        "print(D)"
      ],
      "metadata": {
        "colab": {
          "base_uri": "https://localhost:8080/"
        },
        "id": "Vv1FDpOI-J5K",
        "outputId": "ad2c03d4-1ae7-444f-c236-c166299550c3"
      },
      "execution_count": null,
      "outputs": [
        {
          "output_type": "stream",
          "name": "stdout",
          "text": [
            "after clearing the dictionary:\n",
            "{}\n"
          ]
        }
      ]
    },
    {
      "cell_type": "markdown",
      "source": [
        "### **Q.3 S1 is a set defined as S1={10,20,30,40,50,60}** and  **S2 is a set defined as S2={40,50,60,70,80,90}**"
      ],
      "metadata": {
        "id": "DI8plIBC-idZ"
      }
    },
    {
      "cell_type": "markdown",
      "source": [
        "(i) Program to add 55 and 66 in set S1 :"
      ],
      "metadata": {
        "id": "bjg1tYXg_iOw"
      }
    },
    {
      "cell_type": "code",
      "source": [
        "S1={10,20,30,40,50,60}\n",
        "S2={40,50,60,70,80,90}\n",
        "S1.add(55)\n",
        "S1.add(66)\n",
        "print(S1)"
      ],
      "metadata": {
        "colab": {
          "base_uri": "https://localhost:8080/"
        },
        "id": "zIPuCqBc_sXG",
        "outputId": "125eac1f-53f0-4465-e2a1-3e49a3209657"
      },
      "execution_count": null,
      "outputs": [
        {
          "output_type": "stream",
          "name": "stdout",
          "text": [
            "{50, 66, 20, 55, 40, 10, 60, 30}\n"
          ]
        }
      ]
    },
    {
      "cell_type": "markdown",
      "source": [
        "(ii) Program to remove 10 and 30 from set S1 :"
      ],
      "metadata": {
        "id": "b26ZVT0zArQw"
      }
    },
    {
      "cell_type": "code",
      "source": [
        "S1={10,20,30,40,50,60}\n",
        "S2={40,50,60,70,80,90}\n",
        "S1.remove(10)\n",
        "S1.remove(30)\n",
        "print(S1)"
      ],
      "metadata": {
        "colab": {
          "base_uri": "https://localhost:8080/"
        },
        "id": "OLsmYQKdA0Kt",
        "outputId": "718ad47f-442c-4f43-b8c0-baf9eac9560b"
      },
      "execution_count": null,
      "outputs": [
        {
          "output_type": "stream",
          "name": "stdout",
          "text": [
            "{50, 20, 40, 60}\n"
          ]
        }
      ]
    },
    {
      "cell_type": "markdown",
      "source": [
        "(iii) Program to check whether 40 is present in S1 :"
      ],
      "metadata": {
        "id": "Y9vWbTEiBGa9"
      }
    },
    {
      "cell_type": "code",
      "source": [
        "S1={10,20,30,40,50,60}\n",
        "S2={40,50,60,70,80,90}\n",
        "print(\"Is 40 present in S1? \")\n",
        "if (40 in S1)==True:\n",
        "  print(\"Yes\")\n",
        "else:\n",
        "  print(\"No\")"
      ],
      "metadata": {
        "colab": {
          "base_uri": "https://localhost:8080/"
        },
        "id": "2-qnULQ0BSSl",
        "outputId": "6a7b109e-e31a-420a-9484-832a80c476e4"
      },
      "execution_count": null,
      "outputs": [
        {
          "output_type": "stream",
          "name": "stdout",
          "text": [
            "Is 40 present in S1? \n",
            "Yes\n"
          ]
        }
      ]
    },
    {
      "cell_type": "markdown",
      "source": [
        "(iv) Program to find union between S1 and S2 :"
      ],
      "metadata": {
        "id": "Of-rKOPYBtub"
      }
    },
    {
      "cell_type": "code",
      "source": [
        "S1={10,20,30,40,50,60}\n",
        "S2={40,50,60,70,80,90}\n",
        "S3=S1.union(S2)\n",
        "print(S3)"
      ],
      "metadata": {
        "colab": {
          "base_uri": "https://localhost:8080/"
        },
        "id": "SQWgL1RBB2EF",
        "outputId": "9bd5e2dc-7263-4ce2-8cac-fe6f097141ff"
      },
      "execution_count": null,
      "outputs": [
        {
          "output_type": "stream",
          "name": "stdout",
          "text": [
            "{70, 40, 10, 80, 50, 20, 90, 60, 30}\n"
          ]
        }
      ]
    },
    {
      "cell_type": "markdown",
      "source": [
        "(v) Program to find intersection between S1 and S2 :"
      ],
      "metadata": {
        "id": "aRb1OW0TCDks"
      }
    },
    {
      "cell_type": "code",
      "source": [
        "S1={10,20,30,40,50,60}\n",
        "S2={40,50,60,70,80,90}\n",
        "S3=S1.intersection(S2)\n",
        "print(S3)"
      ],
      "metadata": {
        "colab": {
          "base_uri": "https://localhost:8080/"
        },
        "id": "o6-dEWVuCMyB",
        "outputId": "11c19240-79bf-4c01-bead-16aab8c2ae0c"
      },
      "execution_count": null,
      "outputs": [
        {
          "output_type": "stream",
          "name": "stdout",
          "text": [
            "{40, 50, 60}\n"
          ]
        }
      ]
    },
    {
      "cell_type": "markdown",
      "source": [
        "(vi) Program to find S1-S2 :"
      ],
      "metadata": {
        "id": "7_UnqtkoCTjN"
      }
    },
    {
      "cell_type": "code",
      "source": [
        "S1={10,20,30,40,50,60}\n",
        "S2={40,50,60,70,80,90}\n",
        "S3=S1.difference(S2)\n",
        "#S3=S1-S2\n",
        "print(S3)"
      ],
      "metadata": {
        "colab": {
          "base_uri": "https://localhost:8080/"
        },
        "id": "8hR6N5BrCZhK",
        "outputId": "34d81fb5-8a63-4aff-9026-c6f44a082375"
      },
      "execution_count": null,
      "outputs": [
        {
          "output_type": "stream",
          "name": "stdout",
          "text": [
            "{10, 20, 30}\n"
          ]
        }
      ]
    },
    {
      "cell_type": "markdown",
      "source": [
        "### **Q.4 Write the following programs :**"
      ],
      "metadata": {
        "id": "SqBaSXBEC8Yf"
      }
    },
    {
      "cell_type": "markdown",
      "source": [
        "(i) WAP to print 100 random strings whose length between 6 and 8 :"
      ],
      "metadata": {
        "id": "omZIELQNDYCI"
      }
    },
    {
      "cell_type": "code",
      "source": [
        "import string as s\n",
        "import random as r\n",
        "print(\"100 random strings are:\")\n",
        "def generate_random_string(length):\n",
        "    return ''.join(r.choices(s.ascii_letters + s.digits, k=length))\n",
        "for i in range(1, 101):\n",
        "    length = r.randint(6, 8)\n",
        "    random_string = generate_random_string(length)\n",
        "    print(f\"{i}. {random_string}\")\n"
      ],
      "metadata": {
        "colab": {
          "base_uri": "https://localhost:8080/"
        },
        "id": "WVUm7HkTD3Mf",
        "outputId": "25f6ed9e-e4cb-4740-d9ef-16a27ec9d8c4"
      },
      "execution_count": null,
      "outputs": [
        {
          "output_type": "stream",
          "name": "stdout",
          "text": [
            "100 random strings are:\n",
            "1. GxWgwv\n",
            "2. C3wUtf3D\n",
            "3. T1FfXR\n",
            "4. M3ARMAk\n",
            "5. 1hvqhz2W\n",
            "6. Cs2CM0jV\n",
            "7. xZUHE3KV\n",
            "8. ZzXgpKV4\n",
            "9. 6R2o63Nr\n",
            "10. O04yesKT\n",
            "11. jDz8sApN\n",
            "12. rI3sdBA\n",
            "13. yusvEO\n",
            "14. 6cbNZuIf\n",
            "15. eVBI1b7B\n",
            "16. iohabS7J\n",
            "17. wg88Dm\n",
            "18. MqV5zS\n",
            "19. WutsCgx\n",
            "20. bla0wiQp\n",
            "21. BgNT4Y24\n",
            "22. WqbccpN\n",
            "23. qKgm28x\n",
            "24. G3FY0NON\n",
            "25. 3uGMRJ2\n",
            "26. Duv1SWH\n",
            "27. mFXXijs\n",
            "28. oB1Zqq\n",
            "29. g5yNTqZy\n",
            "30. choWp8\n",
            "31. c8Arz1\n",
            "32. x3HVKY\n",
            "33. tn538Pt\n",
            "34. XtB1Aw\n",
            "35. rO502sK\n",
            "36. xHY8k2AZ\n",
            "37. yGXIWwhu\n",
            "38. bV6adEr\n",
            "39. QKusGT6\n",
            "40. 9kOPYrr\n",
            "41. 0Gk9L6bJ\n",
            "42. qODwKVz\n",
            "43. mB6ybQa\n",
            "44. Q6Opma\n",
            "45. yWFSxzPJ\n",
            "46. bn6gemau\n",
            "47. U4Amlb\n",
            "48. K3FsfPt\n",
            "49. h2qXCckE\n",
            "50. 2cvoBvkB\n",
            "51. r7VocUA0\n",
            "52. GHPCgx\n",
            "53. MD3CiOVA\n",
            "54. hQHh4m\n",
            "55. Iozp3ad\n",
            "56. wO6MNUPp\n",
            "57. TSqzGB\n",
            "58. HS9UOb\n",
            "59. 2JMJaQ\n",
            "60. KHySJTCt\n",
            "61. fuGCncMI\n",
            "62. m1qvfP\n",
            "63. qPZJMb0S\n",
            "64. YpUTDI\n",
            "65. yTt9uZJ3\n",
            "66. WIubQRZ\n",
            "67. k2nW7b\n",
            "68. kDwj10rQ\n",
            "69. KkTVsRAA\n",
            "70. HHkAce\n",
            "71. dqv9yqI\n",
            "72. 1A6fk3P\n",
            "73. b3pEb88M\n",
            "74. jj4b3L\n",
            "75. OctLZv\n",
            "76. Wc0t3wK\n",
            "77. h3YCss\n",
            "78. 5hWuIK\n",
            "79. xd7PhgO\n",
            "80. 96ry4CFw\n",
            "81. muVdCBA\n",
            "82. QTVzLA\n",
            "83. 4hQ1jON\n",
            "84. eZmgE7t\n",
            "85. 8M8ejSB\n",
            "86. KU92Ut3i\n",
            "87. xQ0KCB\n",
            "88. Z0CL5Bb4\n",
            "89. OhNE9mg\n",
            "90. 58wECIb\n",
            "91. UEFAHdtx\n",
            "92. WumgGyV\n",
            "93. AxteMWf\n",
            "94. RfbmJ4\n",
            "95. CRMRoE\n",
            "96. FnYMLB\n",
            "97. jiGn55Eg\n",
            "98. Aeb1JPIX\n",
            "99. YoeaLab\n",
            "100. nTtLl7\n"
          ]
        }
      ]
    },
    {
      "cell_type": "markdown",
      "source": [
        " (ii) WAP to print all prime numbers between 600 and 800 :"
      ],
      "metadata": {
        "id": "0_JGrP_9ELLP"
      }
    },
    {
      "cell_type": "code",
      "source": [
        "def is_prime(n):\n",
        "    if n < 2:\n",
        "        return False\n",
        "    for i in range(2, n//2 + 1):\n",
        "        if n % i == 0:\n",
        "            return False\n",
        "    return True\n",
        "\n",
        "print(\"Prime numbers between 600 and 800 are:\")\n",
        "for num in range(600, 801):\n",
        "    if is_prime(num):\n",
        "        print(num)\n"
      ],
      "metadata": {
        "colab": {
          "base_uri": "https://localhost:8080/"
        },
        "id": "2jfDX2CrHT3q",
        "outputId": "8c7a382f-ab88-4ab3-ef41-a2600c04d8f7"
      },
      "execution_count": null,
      "outputs": [
        {
          "output_type": "stream",
          "name": "stdout",
          "text": [
            "Prime numbers between 600 and 800 are:\n",
            "601\n",
            "607\n",
            "613\n",
            "617\n",
            "619\n",
            "631\n",
            "641\n",
            "643\n",
            "647\n",
            "653\n",
            "659\n",
            "661\n",
            "673\n",
            "677\n",
            "683\n",
            "691\n",
            "701\n",
            "709\n",
            "719\n",
            "727\n",
            "733\n",
            "739\n",
            "743\n",
            "751\n",
            "757\n",
            "761\n",
            "769\n",
            "773\n",
            "787\n",
            "797\n"
          ]
        }
      ]
    },
    {
      "cell_type": "markdown",
      "source": [
        "(iii) WAP to print all numbers between 100 and 1000 that are divisible by 7 and 9 :"
      ],
      "metadata": {
        "id": "bd5sQAcTIW8l"
      }
    },
    {
      "cell_type": "code",
      "source": [
        "print(\"Numbers between 100 and 1000 divisible by both 7 and 9 are:\")\n",
        "\n",
        "for num in range(100, 1001):\n",
        "    if num % 7 == 0 and num % 9 == 0:\n",
        "        print(num)\n"
      ],
      "metadata": {
        "colab": {
          "base_uri": "https://localhost:8080/"
        },
        "id": "7C5hpZ88ItC3",
        "outputId": "b612d5b5-4d58-48b2-b246-e8815747054f"
      },
      "execution_count": null,
      "outputs": [
        {
          "output_type": "stream",
          "name": "stdout",
          "text": [
            "Numbers between 100 and 1000 divisible by both 7 and 9 are:\n",
            "126\n",
            "189\n",
            "252\n",
            "315\n",
            "378\n",
            "441\n",
            "504\n",
            "567\n",
            "630\n",
            "693\n",
            "756\n",
            "819\n",
            "882\n",
            "945\n"
          ]
        }
      ]
    },
    {
      "cell_type": "markdown",
      "source": [
        "### **Q.5 WAP to create two lists of 10 random numbers between 10 and 30;**\n",
        "### **--> Find :**"
      ],
      "metadata": {
        "id": "zIg2clCmI7Bo"
      }
    },
    {
      "cell_type": "markdown",
      "source": [
        "(i) Common numners in the two lists\n",
        "\n",
        "(ii) Unique numbers in both the lists\n",
        "\n",
        "(iii) Minimum in both the lists\n",
        "\n",
        "(iv) Maximum in both the lists\n",
        "\n",
        "(v) Sum of both the lists"
      ],
      "metadata": {
        "id": "ByUzFxkxJQEj"
      }
    },
    {
      "cell_type": "code",
      "source": [
        "import random as r\n",
        "\n",
        "L1 = [r.randint(10, 30) for _ in range(10)]\n",
        "L2 = [r.randint(10, 30) for _ in range(10)]\n",
        "\n",
        "print(\"List 1:\", L1)\n",
        "print(\"List 2:\", L2)\n",
        "\n",
        "common = list(set(L1) & set(L2))\n",
        "print(\"\\n(i) Common numbers:\", common)\n",
        "\n",
        "unique = list(set(L1) ^ set(L2))\n",
        "print(\"(ii) Unique numbers in both lists:\", unique)\n",
        "\n",
        "print(\"(iii) Minimum in List 1:\", min(L1))\n",
        "print(\"      Minimum in List 2:\", min(L2))\n",
        "\n",
        "print(\"(iv) Maximum in List 1:\", max(L1))\n",
        "print(\"      Maximum in List 2:\", max(L2))\n",
        "\n",
        "print(\"(v) Sum of List 1:\", sum(L1))\n",
        "print(\"    Sum of List 2:\", sum(L2))\n"
      ],
      "metadata": {
        "colab": {
          "base_uri": "https://localhost:8080/"
        },
        "id": "mFB5g8tMKhbH",
        "outputId": "7ddb8440-fee8-462b-fe58-5d44d75925f6"
      },
      "execution_count": null,
      "outputs": [
        {
          "output_type": "stream",
          "name": "stdout",
          "text": [
            "List 1: [14, 14, 20, 11, 26, 19, 30, 26, 24, 10]\n",
            "List 2: [24, 29, 15, 13, 26, 11, 30, 15, 25, 23]\n",
            "\n",
            "(i) Common numbers: [24, 26, 11, 30]\n",
            "(ii) Unique numbers in both lists: [10, 13, 14, 15, 19, 20, 23, 25, 29]\n",
            "(iii) Minimum in List 1: 10\n",
            "      Minimum in List 2: 11\n",
            "(iv) Maximum in List 1: 30\n",
            "      Maximum in List 2: 30\n",
            "(v) Sum of List 1: 194\n",
            "    Sum of List 2: 211\n"
          ]
        }
      ]
    },
    {
      "cell_type": "markdown",
      "source": [
        "### **Q.6 WAP to create a list of 100 random numbers between 100 and 900;**\n",
        "### **--> Count and Print the :**\n",
        "\n",
        "---\n",
        "\n"
      ],
      "metadata": {
        "id": "M6E3po8SMTVM"
      }
    },
    {
      "cell_type": "markdown",
      "source": [
        "(i) All odd numbers\n",
        "\n",
        "(ii) All even numbers\n",
        "\n",
        "(iii) All prime numbers"
      ],
      "metadata": {
        "id": "EaZ50l2FM7_z"
      }
    },
    {
      "cell_type": "code",
      "source": [
        "import random as r\n",
        "\n",
        "def is_prime(n):\n",
        "    if n < 2:\n",
        "        return False\n",
        "    for i in range(2, n//2 + 1):\n",
        "        if n % i == 0:\n",
        "            return False\n",
        "    return True\n",
        "\n",
        "numbers = [r.randint(100, 900) for _ in range(100)]\n",
        "\n",
        "print(\"Generated list of numbers:\")\n",
        "print(numbers)\n",
        "\n",
        "odd_numbers = [num for num in numbers if num % 2 != 0]\n",
        "print(f\"\\n(i) All odd numbers ({len(odd_numbers)}):\")\n",
        "print(odd_numbers)\n",
        "\n",
        "even_numbers = [num for num in numbers if num % 2 == 0]\n",
        "print(f\"\\n(ii) All even numbers ({len(even_numbers)}):\")\n",
        "print(even_numbers)\n",
        "\n",
        "prime_numbers = [num for num in numbers if is_prime(num)]\n",
        "print(f\"\\n(iii) All prime numbers ({len(prime_numbers)}):\")\n",
        "print(prime_numbers)\n"
      ],
      "metadata": {
        "colab": {
          "base_uri": "https://localhost:8080/"
        },
        "id": "GyvDkyJ7Mw-u",
        "outputId": "41267f16-df59-4643-818e-960bb127a672"
      },
      "execution_count": null,
      "outputs": [
        {
          "output_type": "stream",
          "name": "stdout",
          "text": [
            "Generated list of numbers:\n",
            "[342, 375, 798, 468, 639, 744, 679, 484, 383, 454, 105, 545, 883, 538, 743, 479, 830, 385, 152, 267, 742, 754, 656, 153, 426, 811, 329, 464, 882, 669, 777, 260, 788, 707, 183, 495, 329, 128, 464, 248, 206, 794, 394, 359, 643, 628, 216, 364, 736, 241, 172, 215, 708, 544, 758, 269, 650, 716, 582, 633, 839, 780, 616, 310, 458, 143, 316, 816, 661, 856, 177, 515, 673, 581, 430, 664, 743, 876, 359, 614, 851, 227, 324, 559, 322, 701, 762, 520, 472, 613, 885, 848, 143, 669, 388, 347, 158, 228, 153, 666]\n",
            "\n",
            "(i) All odd numbers (45):\n",
            "[375, 639, 679, 383, 105, 545, 883, 743, 479, 385, 267, 153, 811, 329, 669, 777, 707, 183, 495, 329, 359, 643, 241, 215, 269, 633, 839, 143, 661, 177, 515, 673, 581, 743, 359, 851, 227, 559, 701, 613, 885, 143, 669, 347, 153]\n",
            "\n",
            "(ii) All even numbers (55):\n",
            "[342, 798, 468, 744, 484, 454, 538, 830, 152, 742, 754, 656, 426, 464, 882, 260, 788, 128, 464, 248, 206, 794, 394, 628, 216, 364, 736, 172, 708, 544, 758, 650, 716, 582, 780, 616, 310, 458, 316, 816, 856, 430, 664, 876, 614, 324, 322, 762, 520, 472, 848, 388, 158, 228, 666]\n",
            "\n",
            "(iii) All prime numbers (18):\n",
            "[383, 883, 743, 479, 811, 359, 643, 241, 269, 839, 661, 673, 743, 359, 227, 701, 613, 347]\n"
          ]
        }
      ]
    },
    {
      "cell_type": "markdown",
      "source": [
        "### **Q.7 D is a dictionary defined as D = {1:\"one\",2:\"two\",3:\"three\"\",4:\"four\",5\":five\"}.**"
      ],
      "metadata": {
        "id": "ScBA03HXOFdD"
      }
    },
    {
      "cell_type": "markdown",
      "source": [
        "### WAP to read all the keys and values from dictionary and write to the file in given below format:\n",
        "key1,value1\n",
        "\n",
        "key2,value2\n",
        "\n",
        "key3,value3\n",
        "\n"
      ],
      "metadata": {
        "id": "WYf2_p9BOhXt"
      }
    },
    {
      "cell_type": "code",
      "source": [
        "D = {1: \"one\", 2: \"two\", 3: \"three\", 4: \"four\", 5: \"five\"}\n",
        "\n",
        "with open(\"dictionary_output.txt\", \"w\") as file:\n",
        "    for key, value in D.items():\n",
        "        file.write(f\"{key},{value}\\n\")\n",
        "\n",
        "print(\"Dictionary contents written to 'dictionary_output.txt'\")\n"
      ],
      "metadata": {
        "colab": {
          "base_uri": "https://localhost:8080/"
        },
        "id": "f-uZSo-rQM7q",
        "outputId": "762a7e41-57bd-4038-fee6-4e00b2582aa6"
      },
      "execution_count": null,
      "outputs": [
        {
          "output_type": "stream",
          "name": "stdout",
          "text": [
            "Dictionary contents written to 'dictionary_output.txt'\n"
          ]
        }
      ]
    },
    {
      "cell_type": "markdown",
      "source": [
        "### **Q.8 L is a list defined as L = [\"one\",\"two\",\"three\",\"four\",\"five\"].**"
      ],
      "metadata": {
        "id": "PLxFdHxXRJH1"
      }
    },
    {
      "cell_type": "markdown",
      "source": [
        "### WAP to count the length of each element from a list and write to the file in given below format:\n",
        "one,3\n",
        "\n",
        "two,3\n",
        "\n",
        "four,4\n",
        "\n"
      ],
      "metadata": {
        "id": "8ZvFIjGLRom1"
      }
    },
    {
      "cell_type": "code",
      "source": [
        "L = [\"one\", \"two\", \"three\", \"four\", \"five\"]\n",
        "\n",
        "with open(\"list_lengths.txt\", \"w\") as file:\n",
        "    for item in L:\n",
        "        file.write(f\"{item},{len(item)}\\n\")\n",
        "\n",
        "print(\"List item lengths written to 'list_lengths.txt'\")\n"
      ],
      "metadata": {
        "colab": {
          "base_uri": "https://localhost:8080/"
        },
        "id": "ZPCNVYFdSHdk",
        "outputId": "9fc33295-ac70-453a-e5fd-9fab1a4a8b36"
      },
      "execution_count": null,
      "outputs": [
        {
          "output_type": "stream",
          "name": "stdout",
          "text": [
            "List item lengths written to 'list_lengths.txt'\n"
          ]
        }
      ]
    },
    {
      "cell_type": "markdown",
      "source": [
        "### **Q.9 Write to the file 100 random strings whose length between 10 and 15.**"
      ],
      "metadata": {
        "id": "MnR4BAuhSbZS"
      }
    },
    {
      "cell_type": "code",
      "source": [
        "import random as r\n",
        "with open(\"random_strings.txt\", \"w\") as file:\n",
        "    for _ in range(100):\n",
        "        length = r.randint(10, 15)\n",
        "        random_string = ''.join(r.choices('abcdefghijklmnopqrstuvwxyz', k=length))\n",
        "        file.write(random_string + '\\n')\n",
        "print(\"100 random strings of different lengths written to 'random_strings.txt'\")\n"
      ],
      "metadata": {
        "colab": {
          "base_uri": "https://localhost:8080/"
        },
        "id": "RTfy_tPzSuFv",
        "outputId": "a47ef05c-9303-4bba-ac3c-dd37e40658eb"
      },
      "execution_count": null,
      "outputs": [
        {
          "output_type": "stream",
          "name": "stdout",
          "text": [
            "100 random strings of different lengths written to 'random_strings.txt'\n"
          ]
        }
      ]
    },
    {
      "cell_type": "markdown",
      "source": [
        "### **Q.10 Write to the file all prime numbers between 600 and 800.**"
      ],
      "metadata": {
        "id": "SgetxCdvTvCK"
      }
    },
    {
      "cell_type": "code",
      "source": [
        "def is_prime(n):\n",
        "    if n < 2:\n",
        "        return False\n",
        "    for i in range(2, n//2 + 1):\n",
        "        if n % i == 0:\n",
        "            return False\n",
        "    return True\n",
        "with open(\"prime_numbers.txt\", \"w\") as file:\n",
        "    for num in range(600, 801):\n",
        "        if is_prime(num):\n",
        "            file.write(str(num) + '\\n')\n",
        "print(\"Prime numbers between 600 and 800 written to 'prime_numbers.txt'\")"
      ],
      "metadata": {
        "colab": {
          "base_uri": "https://localhost:8080/"
        },
        "id": "Yd9mFHA2T7XE",
        "outputId": "3b2e251f-3de6-4be9-d507-f83a74f12584"
      },
      "execution_count": null,
      "outputs": [
        {
          "output_type": "stream",
          "name": "stdout",
          "text": [
            "Prime numbers between 600 and 800 written to 'prime_numbers.txt'\n"
          ]
        }
      ]
    },
    {
      "cell_type": "markdown",
      "source": [
        "### **Q.11 WAP to calculate time taken by a program.**"
      ],
      "metadata": {
        "id": "TiEhFmBLUzAa"
      }
    },
    {
      "cell_type": "code",
      "source": [
        "import time as t\n",
        "t.time()\n"
      ],
      "metadata": {
        "colab": {
          "base_uri": "https://localhost:8080/"
        },
        "id": "Sj8hdz0AU-AZ",
        "outputId": "115205f7-42ff-4ee6-f095-29d93e4c93a2"
      },
      "execution_count": null,
      "outputs": [
        {
          "output_type": "execute_result",
          "data": {
            "text/plain": [
              "1749835700.0229828"
            ]
          },
          "metadata": {},
          "execution_count": 23
        }
      ]
    },
    {
      "cell_type": "markdown",
      "source": [
        "--> Taking an example program for calculating the time of the program:"
      ],
      "metadata": {
        "id": "8ov7_Gs_VufQ"
      }
    },
    {
      "cell_type": "code",
      "source": [
        "import time as t\n",
        "\n",
        "start_time = t.time()\n",
        "\n",
        "# Example program: generate prime numbers up to 10,000\n",
        "primes = []\n",
        "for num in range(2, 10000):\n",
        "    for i in range(2, int(num ** 0.5) + 1):\n",
        "        if num % i == 0:\n",
        "            break\n",
        "    else:\n",
        "        primes.append(num)\n",
        "# Example program ends\n",
        "\n",
        "end_time = t.time()\n",
        "\n",
        "elapsed_time = end_time - start_time\n",
        "print(f\"\\nTime taken by the program: {elapsed_time:.4f} seconds\")\n"
      ],
      "metadata": {
        "colab": {
          "base_uri": "https://localhost:8080/"
        },
        "id": "IL9RKwYSV25A",
        "outputId": "94ba8979-5165-4cdb-c0f5-f3b53454f9f0"
      },
      "execution_count": null,
      "outputs": [
        {
          "output_type": "stream",
          "name": "stdout",
          "text": [
            "\n",
            "Time taken by the program: 0.0151 seconds\n"
          ]
        }
      ]
    },
    {
      "cell_type": "markdown",
      "source": [
        "### **Q.12 WAP to sort following number of elements in a list,calculate time taken and plot the graph:**\n",
        "![image.png](data:image/png;base64,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)"
      ],
      "metadata": {
        "id": "VVlM8tDyWw6_"
      }
    },
    {
      "cell_type": "code",
      "source": [
        "import time as t\n",
        "import random as r\n",
        "import matplotlib.pyplot as plt\n",
        "\n",
        "sizes = [5000, 10000, 15000, 20000, 25000]\n",
        "times = []\n",
        "\n",
        "for size in sizes:\n",
        "    data = [r.randint(1, 100000) for _ in range(size)]  # Random list\n",
        "    start_time = t.time()\n",
        "    sorted_data = sorted(data)\n",
        "    end_time = t.time()\n",
        "    elapsed = end_time - start_time\n",
        "    times.append(elapsed)\n",
        "    print(f\"Sorted {size} elements in {elapsed:.4f} seconds.\")\n",
        "\n",
        "plt.plot(sizes, times, marker='o', linestyle='-', color='blue')\n",
        "plt.title(\"List Size vs Time Taken to Sort\")\n",
        "plt.xlabel(\"Number of Elements\")\n",
        "plt.ylabel(\"Time Taken (seconds)\")\n",
        "plt.grid(True)\n",
        "plt.tight_layout()\n",
        "plt.show()\n"
      ],
      "metadata": {
        "colab": {
          "base_uri": "https://localhost:8080/",
          "height": 578
        },
        "id": "VVb63KSKXXw3",
        "outputId": "d59e3d9f-d617-4bb8-88a2-f05d5014a11f"
      },
      "execution_count": null,
      "outputs": [
        {
          "output_type": "stream",
          "name": "stdout",
          "text": [
            "Sorted 5000 elements in 0.0008 seconds.\n",
            "Sorted 10000 elements in 0.0018 seconds.\n",
            "Sorted 15000 elements in 0.0032 seconds.\n",
            "Sorted 20000 elements in 0.0043 seconds.\n",
            "Sorted 25000 elements in 0.0056 seconds.\n"
          ]
        },
        {
          "output_type": "display_data",
          "data": {
            "text/plain": [
              "<Figure size 640x480 with 1 Axes>"
            ],
            "image/png": "[encoded data removed]"
          },
          "metadata": {}
        }
      ]
    },
    {
      "cell_type": "markdown",
      "source": [
        "### **Q.13 WAP to create a dictionary of student marks in five subjects and you have to find the student having maximum and minimum marks.**"
      ],
      "metadata": {
        "id": "Iyo0ZziSY7cs"
      }
    },
    {
      "cell_type": "code",
      "source": [
        "student_marks = {\n",
        "    \"Ram\": [85, 78, 92, 88, 76],\n",
        "    \"Shyam\": [70, 65, 80, 72, 68],\n",
        "    \"Geeta\": [90, 95, 88, 92, 94],\n",
        "    \"Roshani\": [60, 55, 58, 62, 50],\n",
        "    \"Reetika\": [77, 80, 79, 85, 81]\n",
        "}\n",
        "\n",
        "total_marks = {student: sum(marks) for student, marks in student_marks.items()}\n",
        "\n",
        "max_student = max(total_marks, key=total_marks.get)\n",
        "min_student = min(total_marks, key=total_marks.get)\n",
        "\n",
        "print(\"Total marks of each student:\")\n",
        "for student, total in total_marks.items():\n",
        "    print(f\"{student}: {total}\")\n",
        "\n",
        "print(f\"\\nStudent with Maximum Marks: {max_student} ({total_marks[max_student]})\")\n",
        "print(f\"Student with Minimum Marks: {min_student} ({total_marks[min_student]})\")\n"
      ],
      "metadata": {
        "colab": {
          "base_uri": "https://localhost:8080/"
        },
        "id": "i0oGmC_ia1f4",
        "outputId": "ed7cf51d-155b-41fe-988e-925b992d97e7"
      },
      "execution_count": null,
      "outputs": [
        {
          "output_type": "stream",
          "name": "stdout",
          "text": [
            "Total marks of each student:\n",
            "Ram: 419\n",
            "Shyam: 355\n",
            "Geeta: 459\n",
            "Roshani: 285\n",
            "Reetika: 402\n",
            "\n",
            "Student with Maximum Marks: Geeta (459)\n",
            "Student with Minimum Marks: Roshani (285)\n"
          ]
        }
      ]
    },
    {
      "cell_type": "markdown",
      "source": [
        "---\n",
        "\n",
        "### ** **ASSIGNMENT COMPLETED.** **\n",
        "\n",
        "---"
      ],
      "metadata": {
        "id": "NQKe4pJZbkKM"
      }
    }
  ]
}